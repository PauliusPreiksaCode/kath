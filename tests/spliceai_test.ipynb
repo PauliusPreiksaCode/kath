{
 "cells": [
  {
   "cell_type": "code",
   "id": "initial_id",
   "metadata": {
    "collapsed": true,
    "ExecuteTime": {
     "end_time": "2024-10-15T19:41:21.033479Z",
     "start_time": "2024-10-15T19:40:59.165317Z"
    }
   },
   "source": [
    "import time\n",
    "from tests.tools.spliceai import add_spliceai_eval_columns\n",
    "import importlib\n",
    "import pandas as pd\n",
    "rd = importlib.import_module(\"app.back-end.data\")\n",
    "\n",
    "rd.download_selected_database_for_eys_gene(\"lovd\", \"\", override=False)\n",
    "rd.download_selected_database_for_eys_gene(\"gnomad\", \"\", override=False)\n",
    "\n",
    "lovd_data = rd.parse_lovd()\n",
    "gnomad_data = rd.parse_gnomad()\n",
    "\n",
    "rd.set_lovd_dtypes(lovd_data)\n",
    "rd.set_gnomad_dtypes(gnomad_data)\n",
    "\n",
    "variants_on_genome = lovd_data[\"Variants_On_Genome\"].copy()\n",
    "\n",
    "lovd_data = pd.merge(lovd_data[\"Variants_On_Transcripts\"],\n",
    "                       variants_on_genome[['id', 'VariantOnGenome/DNA', 'VariantOnGenome/DNA/hg38']],\n",
    "                       on='id',\n",
    "                       how='left')\n",
    "\n",
    "gnomad_data = gnomad_data.copy()\n",
    "data = rd.merge_gnomad_lovd(lovd_data, gnomad_data)\n",
    "first_100_rows = data.head(100).copy()\n",
    "fasta_path = \"hg38_chr6.fa\"\n",
    "start_time = time.time()\n",
    "result_data_spliceai = add_spliceai_eval_columns(first_100_rows[51:52], fasta_path)\n",
    "end_time = time.time()\n",
    "elapsed_time = end_time - start_time\n",
    "print(f\"Time taken to add SpliceAI evaluation column: {elapsed_time:.2f} seconds\")\n",
    "result_data_spliceai"
   ],
   "outputs": [
    {
     "name": "stdout",
     "output_type": "stream",
     "text": [
      "The file at ../app/back-end/src/workspace/lovd/lovd_data.txt already exists.\n",
      "The file at ../app/back-end/src/workspace/gnomad/gnomad_data.csv already exists.\n",
      "Time taken to add SpliceAI evaluation column: 12.91 seconds\n"
     ]
    },
    {
     "data": {
      "text/plain": [
       "     id  transcriptid  effectid position_c_start  position_c_start_intron  \\\n",
       "0  <NA>          <NA>      <NA>              NaN                     <NA>   \n",
       "\n",
       "  position_c_end  position_c_end_intron VariantOnTranscript/DNA  \\\n",
       "0            NaN                   <NA>                    <NA>   \n",
       "\n",
       "  VariantOnTranscript/RNA VariantOnTranscript/Protein  ... variant_id_gnomad  \\\n",
       "0                    <NA>                        <NA>  ...    6-63720567-T-G   \n",
       "\n",
       "  Delta score (acceptor gain)_spliceai Delta score (acceptor loss)_spliceai  \\\n",
       "0                                  0.0                                  0.0   \n",
       "\n",
       "  Delta score (donor gain)_spliceai  Delta score (donor loss)_spliceai  \\\n",
       "0                               0.0                                0.0   \n",
       "\n",
       "  Delta position (acceptor gain)_spliceai  \\\n",
       "0                                63720577   \n",
       "\n",
       "   Delta position (acceptor loss)_spliceai  \\\n",
       "0                                 63720522   \n",
       "\n",
       "   Delta position (donor gain)_spliceai Delta position (donor loss)_spliceai  \\\n",
       "0                              63720577                             63720605   \n",
       "\n",
       "   Max_Delta_Score_spliceai  \n",
       "0                       0.0  \n",
       "\n",
       "[1 rows x 28 columns]"
      ],
      "text/html": [
       "<div>\n",
       "<style scoped>\n",
       "    .dataframe tbody tr th:only-of-type {\n",
       "        vertical-align: middle;\n",
       "    }\n",
       "\n",
       "    .dataframe tbody tr th {\n",
       "        vertical-align: top;\n",
       "    }\n",
       "\n",
       "    .dataframe thead th {\n",
       "        text-align: right;\n",
       "    }\n",
       "</style>\n",
       "<table border=\"1\" class=\"dataframe\">\n",
       "  <thead>\n",
       "    <tr style=\"text-align: right;\">\n",
       "      <th></th>\n",
       "      <th>id</th>\n",
       "      <th>transcriptid</th>\n",
       "      <th>effectid</th>\n",
       "      <th>position_c_start</th>\n",
       "      <th>position_c_start_intron</th>\n",
       "      <th>position_c_end</th>\n",
       "      <th>position_c_end_intron</th>\n",
       "      <th>VariantOnTranscript/DNA</th>\n",
       "      <th>VariantOnTranscript/RNA</th>\n",
       "      <th>VariantOnTranscript/Protein</th>\n",
       "      <th>...</th>\n",
       "      <th>variant_id_gnomad</th>\n",
       "      <th>Delta score (acceptor gain)_spliceai</th>\n",
       "      <th>Delta score (acceptor loss)_spliceai</th>\n",
       "      <th>Delta score (donor gain)_spliceai</th>\n",
       "      <th>Delta score (donor loss)_spliceai</th>\n",
       "      <th>Delta position (acceptor gain)_spliceai</th>\n",
       "      <th>Delta position (acceptor loss)_spliceai</th>\n",
       "      <th>Delta position (donor gain)_spliceai</th>\n",
       "      <th>Delta position (donor loss)_spliceai</th>\n",
       "      <th>Max_Delta_Score_spliceai</th>\n",
       "    </tr>\n",
       "  </thead>\n",
       "  <tbody>\n",
       "    <tr>\n",
       "      <th>0</th>\n",
       "      <td>&lt;NA&gt;</td>\n",
       "      <td>&lt;NA&gt;</td>\n",
       "      <td>&lt;NA&gt;</td>\n",
       "      <td>NaN</td>\n",
       "      <td>&lt;NA&gt;</td>\n",
       "      <td>NaN</td>\n",
       "      <td>&lt;NA&gt;</td>\n",
       "      <td>&lt;NA&gt;</td>\n",
       "      <td>&lt;NA&gt;</td>\n",
       "      <td>&lt;NA&gt;</td>\n",
       "      <td>...</td>\n",
       "      <td>6-63720567-T-G</td>\n",
       "      <td>0.0</td>\n",
       "      <td>0.0</td>\n",
       "      <td>0.0</td>\n",
       "      <td>0.0</td>\n",
       "      <td>63720577</td>\n",
       "      <td>63720522</td>\n",
       "      <td>63720577</td>\n",
       "      <td>63720605</td>\n",
       "      <td>0.0</td>\n",
       "    </tr>\n",
       "  </tbody>\n",
       "</table>\n",
       "<p>1 rows × 28 columns</p>\n",
       "</div>"
      ]
     },
     "execution_count": 1,
     "metadata": {},
     "output_type": "execute_result"
    }
   ],
   "execution_count": 1
  },
  {
   "metadata": {
    "ExecuteTime": {
     "end_time": "2024-10-15T17:20:22.339162Z",
     "start_time": "2024-10-15T17:20:09.838818Z"
    }
   },
   "cell_type": "code",
   "source": [
    "def extract_chr6_sequence(input_file, output_file):\n",
    "    \"\"\"\n",
    "    Extracts the sequence for chromosome 6 from a FASTA file and writes it to another file.\n",
    "\n",
    "    :param input_file: Path to the input FASTA file.\n",
    "    :param output_file: Path to the output file where chr6 sequence will be written.\n",
    "    \"\"\"\n",
    "    with open(input_file, 'r') as fasta_file:\n",
    "        with open(output_file, 'w') as output_fasta:\n",
    "            write_sequence = False\n",
    "            for line in fasta_file:\n",
    "                line = line.strip()\n",
    "                if line.startswith('>'):  # Header line\n",
    "                    if 'chr6' in line:\n",
    "                        write_sequence = True\n",
    "                        output_fasta.write(line + '\\n')  # Write the header for chr6\n",
    "                    else:\n",
    "                        write_sequence = False\n",
    "                elif write_sequence:\n",
    "                    output_fasta.write(line + '\\n')  # Write sequence lines for chr6\n",
    "\n",
    "# Usage\n",
    "input_fasta_path = 'hg38.fa'  # Path to the input FASTA file\n",
    "output_fasta_path = 'hg38_chr6.fa'  # Path to the output file for chr6\n",
    "\n",
    "extract_chr6_sequence(input_fasta_path, output_fasta_path)\n",
    "print(f\"Extracted chr6 sequence and saved to {output_fasta_path}.\")\n"
   ],
   "id": "9303d6eb35df552a",
   "outputs": [
    {
     "name": "stdout",
     "output_type": "stream",
     "text": [
      "Extracted chr6 sequence and saved to hg38_chr6.fa.\n"
     ]
    }
   ],
   "execution_count": 2
  }
 ],
 "metadata": {
  "kernelspec": {
   "display_name": "Python 3",
   "language": "python",
   "name": "python3"
  },
  "language_info": {
   "codemirror_mode": {
    "name": "ipython",
    "version": 2
   },
   "file_extension": ".py",
   "mimetype": "text/x-python",
   "name": "python",
   "nbconvert_exporter": "python",
   "pygments_lexer": "ipython2",
   "version": "2.7.6"
  }
 },
 "nbformat": 4,
 "nbformat_minor": 5
}
