{
 "cells": [
  {
   "cell_type": "code",
   "id": "initial_id",
   "metadata": {
    "collapsed": true,
    "jupyter": {
     "outputs_hidden": true
    }
   },
   "source": [
    "import pandas as pd\n",
    "import requests\n",
    "\n",
    "from api.data import (store_database_for_eys_gene,\n",
    "                      parse_lovd,\n",
    "                      parse_gnomad,\n",
    "                      LOVD_PATH,\n",
    "                      set_lovd_dtypes,\n",
    "                      set_gnomad_dtypes,\n",
    "                      request_gnomad_api_data,\n",
    "                      merge_gnomad_lovd,\n",
    "                      GNOMAD_PATH,\n",
    "                      )\n",
    "from api.data import save_lovd_as_vcf\n",
    "\n",
    "\n",
    "pd.options.display.max_columns = 0"
   ],
   "outputs": [],
   "execution_count": null
  },
  {
   "cell_type": "code",
   "id": "f49f7691a27aa7b4",
   "metadata": {
    "collapsed": false
   },
   "source": [
    "store_database_for_eys_gene(\"lovd\", override=False)"
   ],
   "outputs": [],
   "execution_count": null
  },
  {
   "cell_type": "code",
   "id": "cf5c45c0f7b9de0f",
   "metadata": {
    "collapsed": false,
    "jupyter": {
     "outputs_hidden": false
    }
   },
   "source": [
    "data = parse_lovd(LOVD_PATH + \"/lovd_data.txt\")"
   ],
   "outputs": [],
   "execution_count": null
  },
  {
   "metadata": {},
   "cell_type": "code",
   "source": [
    "gnomad_data = request_gnomad_api_data(\"EYS\")\n",
    "\n",
    "display(gnomad_data)"
   ],
   "id": "64482c033c794fb4",
   "outputs": [],
   "execution_count": null
  },
  {
   "metadata": {},
   "cell_type": "code",
   "source": [
    "store_database_for_eys_gene('gnomad', False)\n",
    "\n",
    "gnomad_data_2 = parse_gnomad(GNOMAD_PATH +'/gnomad_data.csv')"
   ],
   "id": "60f3f3074a9b19f4",
   "outputs": [],
   "execution_count": null
  },
  {
   "metadata": {},
   "cell_type": "code",
   "source": "display(gnomad_data_2)",
   "id": "9d3e4d6b5f7be127",
   "outputs": [],
   "execution_count": null
  },
  {
   "metadata": {},
   "cell_type": "code",
   "source": [
    "gnomad_data_2.to_csv('C:\\\\Users\\\\Kajus\\\\Desktop\\\\gnomad_data_downloaded.csv', index=False)\n",
    "gnomad_data.to_csv('C:\\\\Users\\\\Kajus\\\\Desktop\\\\gnomad_data_api.csv', index=False)"
   ],
   "id": "2e869f5c77dbe3d3",
   "outputs": [],
   "execution_count": null
  },
  {
   "metadata": {},
   "cell_type": "code",
   "source": [
    "len(gnomad_data_2), len(gnomad_data)\n",
    "\n",
    "print(len(gnomad_data_2) - len(gnomad_data))"
   ],
   "id": "9efafb201061c146",
   "outputs": [],
   "execution_count": null
  },
  {
   "metadata": {},
   "cell_type": "code",
   "source": "gnomad_data",
   "id": "96283480cccf641",
   "outputs": [],
   "execution_count": null
  },
  {
   "metadata": {},
   "cell_type": "code",
   "source": [
    "missing_from_api = []\n",
    "\n",
    "for i in gnomad_data['gnomAD ID']:\n",
    "    if(i in gnomad_data_2['gnomAD ID'].values):\n",
    "        continue\n",
    "    missing_from_api.append(i)\n",
    "\n",
    "len(missing_from_api)\n",
    "\n",
    "missing_data = gnomad_data.loc[gnomad_data['gnomAD ID'].isin(missing_from_api)]\n",
    "\n",
    "missing_data"
   ],
   "id": "d0eb0a6db96d31c8",
   "outputs": [],
   "execution_count": null
  },
  {
   "metadata": {},
   "cell_type": "code",
   "source": "missing_data.to_csv('C:\\\\Users\\\\Kajus\\\\Desktop\\\\gnomad_data_missing.csv', index=False)",
   "id": "388120b03b094511",
   "outputs": [],
   "execution_count": null
  },
  {
   "metadata": {},
   "cell_type": "code",
   "source": [
    "set_lovd_dtypes(data)\n",
    "set_gnomad_dtypes(gnomad_data)\n",
    "\n",
    "variants_on_genome = data[\"Variants_On_Genome\"].copy()\n",
    "\n",
    "lovd_data = pd.merge(data[\"Variants_On_Transcripts\"],\n",
    "                       variants_on_genome[['id','VariantOnGenome/DNA/hg38']],\n",
    "                       on='id',\n",
    "                       how='left')\n",
    "\n",
    "gnomad_data = gnomad_data.copy()\n",
    "final_data = merge_gnomad_lovd(lovd_data, gnomad_data)\n",
    "final_data"
   ],
   "id": "96453d88e353aeb1",
   "outputs": [],
   "execution_count": null
  },
  {
   "metadata": {},
   "cell_type": "code",
   "source": [
    "for i in data:\n",
    "    print(i)\n",
    "    display(data[i])"
   ],
   "id": "8a089e29bfc8c119",
   "outputs": [],
   "execution_count": null
  },
  {
   "metadata": {},
   "cell_type": "code",
   "source": [
    "set_lovd_dtypes(data)\n",
    "for i in data:\n",
    "    print(i)\n",
    "    display(data[i].info())"
   ],
   "id": "ef07740b2fa63e42",
   "outputs": [],
   "execution_count": null
  },
  {
   "metadata": {},
   "cell_type": "code",
   "source": "save_lovd_as_vcf(data[\"Variants_On_Genome\"], \"./lovd.vcf\")",
   "id": "c968af1617be40db",
   "outputs": [],
   "execution_count": null
  },
  {
   "metadata": {},
   "cell_type": "code",
   "source": [
    "from subprocess import Popen\n",
    "\n",
    "process = Popen(\"spliceai -I ./lovd.vcf -O ./lovd_output.vcf -R ../tools/spliceai/hg38.fa -A grch38\".split())\n",
    "process.wait()"
   ],
   "id": "c7ff16903e0c52bd",
   "outputs": [],
   "execution_count": null
  },
  {
   "metadata": {},
   "cell_type": "code",
   "source": [
    "from api.tools import get_revel_scores\n",
    "\n",
    "chromosome = 6\n",
    "position = 65655758\n",
    "\n",
    "results = get_revel_scores(chromosome, position)\n",
    "\n",
    "display(results)"
   ],
   "id": "0514ccc3-5c91-41ad-ab15-f4158030ea14",
   "outputs": [],
   "execution_count": null
  },
  {
   "metadata": {},
   "cell_type": "code",
   "outputs": [],
   "execution_count": null,
   "source": [
    "from api.data.refactoring import merge_gnomad_lovd, parse_gnomad, set_gnomad_dtypes\n",
    "import pandas as pd\n",
    "from api import (store_database_for_eys_gene,\n",
    "                 parse_lovd,\n",
    "                 set_lovd_dtypes,\n",
    "                 LOVD_PATH,\n",
    "                 GNOMAD_PATH)\n",
    "\n",
    "store_database_for_eys_gene('lovd', False)\n",
    "store_database_for_eys_gene('gnomad', False)\n",
    "\n",
    "lovd_data = parse_lovd(LOVD_PATH + \"/lovd_data.txt\")\n",
    "gnomad_data = parse_gnomad(GNOMAD_PATH+'/gnomad_data.csv')\n",
    "\n",
    "set_lovd_dtypes(lovd_data)\n",
    "set_gnomad_dtypes(gnomad_data)\n",
    "\n",
    "variants_on_genome = lovd_data[\"Variants_On_Genome\"].copy()\n",
    "\n",
    "lovd_data = pd.merge(lovd_data[\"Variants_On_Transcripts\"],\n",
    "                       variants_on_genome[['id','VariantOnGenome/DNA','VariantOnGenome/DNA/hg38']],\n",
    "                       on='id',\n",
    "                       how='left')\n",
    "\n",
    "gnomad_data = gnomad_data.copy()\n",
    "final_data = merge_gnomad_lovd(lovd_data, gnomad_data)\n",
    "final_data"
   ],
   "id": "ba435cd29d565f7d"
  }
 ],
 "metadata": {
  "kernelspec": {
   "display_name": "Python 3 (ipykernel)",
   "language": "python",
   "name": "python3"
  },
  "language_info": {
   "codemirror_mode": {
    "name": "ipython",
    "version": 3
   },
   "file_extension": ".py",
   "mimetype": "text/x-python",
   "name": "python",
   "nbconvert_exporter": "python",
   "pygments_lexer": "ipython3",
   "version": "3.11.6"
  }
 },
 "nbformat": 4,
 "nbformat_minor": 5
}
