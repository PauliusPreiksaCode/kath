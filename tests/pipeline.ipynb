{
 "cells": [
  {
   "cell_type": "code",
   "id": "initial_id",
   "metadata": {
    "collapsed": true,
    "jupyter": {
     "outputs_hidden": true
    },
    "ExecuteTime": {
     "end_time": "2024-08-19T08:25:04.230992Z",
     "start_time": "2024-08-19T08:25:03.038301Z"
    }
   },
   "source": [
    "import pandas as pd\n",
    "import requests\n",
    "\n",
    "from api.data import (store_database_for_eys_gene,\n",
    "                      parse_lovd,\n",
    "                      LOVD_PATH,\n",
    "                      set_lovd_dtypes,\n",
    "                      request_clinvar_api_data,\n",
    "                      get_variant_ids_from_clinvar_name_api,\n",
    "                      )\n",
    "from api.data import save_lovd_as_vcf\n",
    "\n",
    "pd.options.display.max_columns = 0"
   ],
   "outputs": [],
   "execution_count": 1
  },
  {
   "cell_type": "code",
   "id": "f49f7691a27aa7b4",
   "metadata": {
    "collapsed": false,
    "jupyter": {
     "outputs_hidden": false
    }
   },
   "source": [
    "store_database_for_eys_gene(\"lovd\", override=False)"
   ],
   "outputs": [],
   "execution_count": null
  },
  {
   "cell_type": "code",
   "id": "cf5c45c0f7b9de0f",
   "metadata": {
    "collapsed": false,
    "jupyter": {
     "outputs_hidden": false
    }
   },
   "source": [
    "data = parse_lovd(LOVD_PATH + \"/lovd_data.txt\")"
   ],
   "outputs": [],
   "execution_count": null
  },
  {
   "cell_type": "code",
   "id": "8a089e29bfc8c119",
   "metadata": {},
   "source": [
    "for i in data:\n",
    "    print(i)\n",
    "    display(data[i])"
   ],
   "outputs": [],
   "execution_count": null
  },
  {
   "cell_type": "code",
   "id": "ef07740b2fa63e42",
   "metadata": {
    "collapsed": false,
    "jupyter": {
     "outputs_hidden": false
    }
   },
   "source": [
    "set_lovd_dtypes(data)\n",
    "for i in data:\n",
    "    print(i)\n",
    "    display(data[i].info())"
   ],
   "outputs": [],
   "execution_count": null
  },
  {
   "cell_type": "code",
   "id": "c968af1617be40db",
   "metadata": {},
   "source": [
    "save_lovd_as_vcf(data[\"Variants_On_Genome\"], \"./lovd.vcf\")"
   ],
   "outputs": [],
   "execution_count": null
  },
  {
   "cell_type": "code",
   "id": "c7ff16903e0c52bd",
   "metadata": {},
   "source": [
    "from subprocess import Popen\n",
    "\n",
    "process = Popen(\"spliceai -I ./lovd.vcf -O ./lovd_output.vcf -R ../tools/spliceai/hg38.fa -A grch38\".split())\n",
    "process.wait()"
   ],
   "outputs": [],
   "execution_count": null
  },
  {
   "cell_type": "code",
   "id": "0514ccc3-5c91-41ad-ab15-f4158030ea14",
   "metadata": {},
   "source": [
    "from api.tools import get_revel_scores\n",
    "\n",
    "chromosome = 6\n",
    "position = 65655758\n",
    "\n",
    "results = get_revel_scores(chromosome, position)\n",
    "\n",
    "display(results)"
   ],
   "outputs": [],
   "execution_count": null
  },
  {
   "metadata": {
    "ExecuteTime": {
     "end_time": "2024-08-19T08:25:08.217689Z",
     "start_time": "2024-08-19T08:25:06.865107Z"
    }
   },
   "cell_type": "code",
   "source": [
    "variation_ids = '148002'\n",
    "\n",
    "frames = request_clinvar_api_data(variation_ids)\n",
    "\n",
    "display(frames)"
   ],
   "id": "b21c3487476b684f",
   "outputs": [
    {
     "data": {
      "text/plain": [
       "      uid  ... germline_set_0_trait_name\n",
       "0  148002  ...                 See cases\n",
       "\n",
       "[1 rows x 37 columns]"
      ],
      "text/html": [
       "<div>\n",
       "<style scoped>\n",
       "    .dataframe tbody tr th:only-of-type {\n",
       "        vertical-align: middle;\n",
       "    }\n",
       "\n",
       "    .dataframe tbody tr th {\n",
       "        vertical-align: top;\n",
       "    }\n",
       "\n",
       "    .dataframe thead th {\n",
       "        text-align: right;\n",
       "    }\n",
       "</style>\n",
       "<table border=\"1\" class=\"dataframe\">\n",
       "  <thead>\n",
       "    <tr style=\"text-align: right;\">\n",
       "      <th></th>\n",
       "      <th>uid</th>\n",
       "      <th>obj_type</th>\n",
       "      <th>accession</th>\n",
       "      <th>accession_version</th>\n",
       "      <th>title</th>\n",
       "      <th>record_status</th>\n",
       "      <th>gene_sort</th>\n",
       "      <th>chr_sort</th>\n",
       "      <th>location_sort</th>\n",
       "      <th>variation_set_name</th>\n",
       "      <th>variation_set_id</th>\n",
       "      <th>molecular_consequence_list</th>\n",
       "      <th>protein_change</th>\n",
       "      <th>fda_recognized_database</th>\n",
       "      <th>supporting_submissions_scv</th>\n",
       "      <th>supporting_submissions_rcv</th>\n",
       "      <th>germline_classification_description</th>\n",
       "      <th>germline_classification_last_evaluated</th>\n",
       "      <th>germline_classification_review_status</th>\n",
       "      <th>germline_classification_fda_recognized_database</th>\n",
       "      <th>clinical_impact_classification_description</th>\n",
       "      <th>clinical_impact_classification_last_evaluated</th>\n",
       "      <th>clinical_impact_classification_review_status</th>\n",
       "      <th>clinical_impact_classification_fda_recognized_database</th>\n",
       "      <th>clinical_impact_classification_trait_set</th>\n",
       "      <th>oncogenicity_classification_description</th>\n",
       "      <th>oncogenicity_classification_last_evaluated</th>\n",
       "      <th>oncogenicity_classification_review_status</th>\n",
       "      <th>oncogenicity_classification_fda_recognized_database</th>\n",
       "      <th>oncogenicity_classification_trait_set</th>\n",
       "      <th>variation_set_0_measure_id</th>\n",
       "      <th>variation_set_0_variation_name</th>\n",
       "      <th>variation_set_0_cdna_change</th>\n",
       "      <th>variation_set_0_aliases</th>\n",
       "      <th>variation_set_0_variant_type</th>\n",
       "      <th>variation_set_0_canonical_spdi</th>\n",
       "      <th>germline_set_0_trait_name</th>\n",
       "    </tr>\n",
       "  </thead>\n",
       "  <tbody>\n",
       "    <tr>\n",
       "      <th>0</th>\n",
       "      <td>148002</td>\n",
       "      <td>copy number gain</td>\n",
       "      <td>VCV000148002</td>\n",
       "      <td>VCV000148002.</td>\n",
       "      <td>GRCh38/hg38 6p12.1-q12(chr6:53931543-68149750)x3</td>\n",
       "      <td></td>\n",
       "      <td>BAG2</td>\n",
       "      <td>06</td>\n",
       "      <td>00000000000053931543</td>\n",
       "      <td></td>\n",
       "      <td></td>\n",
       "      <td>[]</td>\n",
       "      <td></td>\n",
       "      <td></td>\n",
       "      <td>[SCV000177291]</td>\n",
       "      <td>[RCV000137097]</td>\n",
       "      <td>Pathogenic</td>\n",
       "      <td>2010/12/22 00:00</td>\n",
       "      <td>no assertion criteria provided</td>\n",
       "      <td></td>\n",
       "      <td></td>\n",
       "      <td>1/01/01 00:00</td>\n",
       "      <td></td>\n",
       "      <td></td>\n",
       "      <td>[]</td>\n",
       "      <td></td>\n",
       "      <td>1/01/01 00:00</td>\n",
       "      <td></td>\n",
       "      <td></td>\n",
       "      <td>[]</td>\n",
       "      <td>157753</td>\n",
       "      <td>GRCh38/hg38 6p12.1-q12(chr6:53931543-68149750)x3</td>\n",
       "      <td>GRCh38/hg38 6p12.1-q12(chr6:53931543-68149750)x3</td>\n",
       "      <td>[]</td>\n",
       "      <td>copy number gain</td>\n",
       "      <td></td>\n",
       "      <td>See cases</td>\n",
       "    </tr>\n",
       "  </tbody>\n",
       "</table>\n",
       "</div>"
      ]
     },
     "metadata": {},
     "output_type": "display_data"
    }
   ],
   "execution_count": 2
  },
  {
   "metadata": {},
   "cell_type": "code",
   "source": [
    "clinvar_data = pd.read_csv(\"C:\\\\Users\\\\Kajus\\\\Desktop\\\\clinvar_results.txt\", sep='\\t')\n",
    "\n",
    "display(clinvar_data)"
   ],
   "id": "8cb4bbe3f35562d5",
   "outputs": [],
   "execution_count": null
  },
  {
   "metadata": {},
   "cell_type": "markdown",
   "source": [
    "Explanation of whats happening in the code below:\n",
    "\n",
    "Function to get all the ids from a gene name:\n",
    "```python\n",
    "get_variant_ids_from_clinvar_name_api(name: str, count: int)\n",
    "```\n",
    "\n",
    "function gets the ids from the clinvar api, the name is the gene name and the count is the maximum number of ids to get (api's limit is 500)\n",
    "\n",
    "function returns a dictionary with the count and the list of ids:\n",
    "\n",
    "```json\n",
    "{\n",
    "    'count': int,\n",
    "    'idlist': List[str]\n",
    "}\n",
    "```\n",
    "\n",
    "if the count is greater than the api's limit, the function will split the list of ids into smaller lists of 500 and then request the data from the api in chunks of 500 ids:\n",
    "\n",
    "```python\n",
    "id_lists = [id_list[i:i + max] for i in range(0, size, max)]\n",
    "```\n",
    "\n",
    "then the function will request the data from the api and concatenate the dataframes into a single dataframe:\n",
    "\n",
    "```python\n",
    "frames = request_clinvar_api_data(join)\n",
    "variations = pd.concat([variations, frames], ignore_index=True)\n",
    "```\n",
    "\n",
    "The variant extraction function contains a lot of nested lists and dictionaries, so the function will flatten the data and then concatenate the dataframes into a single dataframe\n",
    "\n",
    "**NOTE**\n",
    "\n",
    "> joining function may have been implemented wrong due to the waiting time of the api.\n"
   ],
   "id": "655a935b2874c218"
  },
  {
   "metadata": {},
   "cell_type": "code",
   "source": [
    "import pandas as pd\n",
    "\n",
    "variations = pd.DataFrame()\n",
    "\n",
    "max = 500\n",
    "name = \"EYS\"\n",
    "count = 2147483647\n",
    "\n",
    "id_array = get_variant_ids_from_clinvar_name_api(name, count)\n",
    "size = int(id_array['count'])\n",
    "id_list = id_array['idlist']\n",
    "\n",
    "id_lists = [id_list[i:i + max] for i in range(0, size, max)]\n",
    "\n",
    "track = 0\n",
    "for lists in id_lists:\n",
    "    join = \",\".join(lists)\n",
    "    frame = request_clinvar_api_data(join)\n",
    "    \n",
    "    variations = pd.concat([variations, frame], ignore_index=True)\n",
    "    \n",
    "    print(f\"{track + 1}/{len(id_lists)}\")\n",
    "    track += 1\n",
    "\n",
    "display(variations)\n"
   ],
   "id": "129175e3a2e568be",
   "outputs": [],
   "execution_count": null
  },
  {
   "metadata": {},
   "cell_type": "code",
   "source": [
    "clinvar_data = pd.read_csv('C:\\\\Users\\\\Kajus\\\\Desktop\\\\clinvar_result.txt', sep='\\t')\n",
    "\n",
    "display(clinvar_data)"
   ],
   "id": "c85507a3e2c584da",
   "outputs": [],
   "execution_count": null
  },
  {
   "metadata": {},
   "cell_type": "code",
   "source": "",
   "id": "8e0e2f2853152d96",
   "outputs": [],
   "execution_count": null
  }
 ],
 "metadata": {
  "kernelspec": {
   "display_name": "Python 3 (ipykernel)",
   "language": "python",
   "name": "python3"
  },
  "language_info": {
   "codemirror_mode": {
    "name": "ipython",
    "version": 3
   },
   "file_extension": ".py",
   "mimetype": "text/x-python",
   "name": "python",
   "nbconvert_exporter": "python",
   "pygments_lexer": "ipython3",
   "version": "3.11.6"
  }
 },
 "nbformat": 4,
 "nbformat_minor": 5
}
