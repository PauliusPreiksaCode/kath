{
 "cells": [
  {
   "cell_type": "code",
   "execution_count": null,
   "id": "initial_id",
   "metadata": {
    "collapsed": true
   },
   "outputs": [],
   "source": [
    "from data_collection import (store_database_for_eys_gene,\n",
    "                             parse_lovd,\n",
    "                             LOVD_PATH,\n",
    "                             set_lovd_dtypes)"
   ]
  },
  {
   "cell_type": "code",
   "outputs": [],
   "source": [
    "store_database_for_eys_gene(\"lovd\", override=False)"
   ],
   "metadata": {
    "collapsed": false
   },
   "id": "f49f7691a27aa7b4",
   "execution_count": null
  },
  {
   "cell_type": "code",
   "outputs": [],
   "source": [
    "data = parse_lovd(LOVD_PATH + \"/lovd_data.txt\")\n",
    "for i in data:\n",
    "    print(i)\n",
    "    display(data[i])"
   ],
   "metadata": {
    "collapsed": false
   },
   "id": "cf5c45c0f7b9de0f",
   "execution_count": null
  },
  {
   "cell_type": "code",
   "outputs": [],
   "source": [
    "set_lovd_dtypes(data)\n",
    "for i in data:\n",
    "    print(i)\n",
    "    display(data[i].info())"
   ],
   "metadata": {
    "collapsed": false
   },
   "id": "ef07740b2fa63e42",
   "execution_count": null
  }
 ],
 "metadata": {
  "kernelspec": {
   "display_name": "Python 3",
   "language": "python",
   "name": "python3"
  },
  "language_info": {
   "codemirror_mode": {
    "name": "ipython",
    "version": 2
   },
   "file_extension": ".py",
   "mimetype": "text/x-python",
   "name": "python",
   "nbconvert_exporter": "python",
   "pygments_lexer": "ipython2",
   "version": "2.7.6"
  }
 },
 "nbformat": 4,
 "nbformat_minor": 5
}
