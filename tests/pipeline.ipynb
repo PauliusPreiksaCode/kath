{
 "cells": [
  {
   "cell_type": "code",
   "id": "initial_id",
   "metadata": {
    "collapsed": true,
    "jupyter": {
     "outputs_hidden": true
    },
    "ExecuteTime": {
     "end_time": "2024-08-21T19:51:25.871973Z",
     "start_time": "2024-08-21T19:51:25.105850Z"
    }
   },
   "source": [
    "import pandas as pd\n",
    "import requests\n",
    "\n",
    "from api.data import (store_database_for_eys_gene,\n",
    "                      parse_lovd,\n",
    "                      LOVD_PATH,\n",
    "                      set_lovd_dtypes,\n",
    "                      request_clinvar_api_data,\n",
    "                      get_variant_ids_from_clinvar_name_api,\n",
    "                      request_gnomad_api_data,\n",
    "                      )\n",
    "from api.data import save_lovd_as_vcf\n",
    "\n",
    "pd.options.display.max_columns = 0"
   ],
   "outputs": [],
   "execution_count": 1
  },
  {
   "cell_type": "code",
   "id": "f49f7691a27aa7b4",
   "metadata": {
    "collapsed": false,
    "jupyter": {
     "outputs_hidden": false
    }
   },
   "source": [
    "store_database_for_eys_gene(\"lovd\", override=False)"
   ],
   "outputs": [],
   "execution_count": null
  },
  {
   "cell_type": "code",
   "id": "cf5c45c0f7b9de0f",
   "metadata": {
    "collapsed": false,
    "jupyter": {
     "outputs_hidden": false
    }
   },
   "source": [
    "data = parse_lovd(LOVD_PATH + \"/lovd_data.txt\")"
   ],
   "outputs": [],
   "execution_count": null
  },
  {
   "cell_type": "code",
   "id": "8a089e29bfc8c119",
   "metadata": {},
   "source": [
    "for i in data:\n",
    "    print(i)\n",
    "    display(data[i])"
   ],
   "outputs": [],
   "execution_count": null
  },
  {
   "cell_type": "code",
   "id": "ef07740b2fa63e42",
   "metadata": {
    "collapsed": false,
    "jupyter": {
     "outputs_hidden": false
    }
   },
   "source": [
    "set_lovd_dtypes(data)\n",
    "for i in data:\n",
    "    print(i)\n",
    "    display(data[i].info())"
   ],
   "outputs": [],
   "execution_count": null
  },
  {
   "cell_type": "code",
   "id": "c968af1617be40db",
   "metadata": {},
   "source": [
    "save_lovd_as_vcf(data[\"Variants_On_Genome\"], \"./lovd.vcf\")"
   ],
   "outputs": [],
   "execution_count": null
  },
  {
   "cell_type": "code",
   "id": "c7ff16903e0c52bd",
   "metadata": {},
   "source": [
    "from subprocess import Popen\n",
    "\n",
    "process = Popen(\"spliceai -I ./lovd.vcf -O ./lovd_output.vcf -R ../tools/spliceai/hg38.fa -A grch38\".split())\n",
    "process.wait()"
   ],
   "outputs": [],
   "execution_count": null
  },
  {
   "cell_type": "code",
   "id": "0514ccc3-5c91-41ad-ab15-f4158030ea14",
   "metadata": {},
   "source": [
    "from api.tools import get_revel_scores\n",
    "\n",
    "chromosome = 6\n",
    "position = 65655758\n",
    "\n",
    "results = get_revel_scores(chromosome, position)\n",
    "\n",
    "display(results)"
   ],
   "outputs": [],
   "execution_count": null
  },
  {
   "metadata": {},
   "cell_type": "code",
   "source": [
    "variation_ids = '148002'\n",
    "\n",
    "frames = request_clinvar_api_data(variation_ids)\n",
    "\n",
    "display(frames)"
   ],
   "id": "b21c3487476b684f",
   "outputs": [],
   "execution_count": null
  },
  {
   "metadata": {},
   "cell_type": "code",
   "source": [
    "clinvar_data = pd.read_csv(\"C:\\\\Users\\\\Kajus\\\\Desktop\\\\clinvar_results.txt\", sep='\\t')\n",
    "\n",
    "display(clinvar_data)"
   ],
   "id": "8cb4bbe3f35562d5",
   "outputs": [],
   "execution_count": null
  },
  {
   "metadata": {},
   "cell_type": "markdown",
   "source": [
    "Explanation of whats happening in the code below:\n",
    "\n",
    "Function to get all the ids from a gene name:\n",
    "```python\n",
    "get_variant_ids_from_clinvar_name_api(name: str, count: int)\n",
    "```\n",
    "\n",
    "function gets the ids from the clinvar api, the name is the gene name and the count is the maximum number of ids to get (api's limit is 500)\n",
    "\n",
    "function returns a dictionary with the count and the list of ids:\n",
    "\n",
    "```json\n",
    "{\n",
    "    'count': int,\n",
    "    'idlist': List[str]\n",
    "}\n",
    "```\n",
    "\n",
    "if the count is greater than the api's limit, the function will split the list of ids into smaller lists of 500 and then request the data from the api in chunks of 500 ids:\n",
    "\n",
    "```python\n",
    "id_lists = [id_list[i:i + max] for i in range(0, size, max)]\n",
    "```\n",
    "\n",
    "then the function will request the data from the api and concatenate the dataframes into a single dataframe:\n",
    "\n",
    "```python\n",
    "frames = request_clinvar_api_data(join)\n",
    "variations = pd.concat([variations, frames], ignore_index=True)\n",
    "```\n",
    "\n",
    "The variant extraction function contains a lot of nested lists and dictionaries, so the function will flatten the data and then concatenate the dataframes into a single dataframe\n",
    "\n",
    "**NOTE**\n",
    "\n",
    "> joining function may have been implemented wrong due to the waiting time of the api.\n"
   ],
   "id": "976f9632a8ef29e3"
  },
  {
   "metadata": {},
   "cell_type": "code",
   "source": [
    "import pandas as pd\n",
    "\n",
    "variations = pd.DataFrame()\n",
    "\n",
    "max = 500\n",
    "name = \"EYS\"\n",
    "count = 2147483647\n",
    "\n",
    "id_array = get_variant_ids_from_clinvar_name_api(name, count)\n",
    "size = int(id_array['count'])\n",
    "id_list = id_array['idlist']\n",
    "\n",
    "id_lists = [id_list[i:i + max] for i in range(0, size, max)]\n",
    "\n",
    "track = 0\n",
    "for lists in id_lists:\n",
    "    join = \",\".join(lists)\n",
    "    frame = request_clinvar_api_data(join)\n",
    "    \n",
    "    variations = pd.concat([variations, frame], ignore_index=True)\n",
    "    \n",
    "    print(f\"{track + 1}/{len(id_lists)}\")\n",
    "    track += 1\n",
    "\n",
    "display(variations)\n"
   ],
   "id": "129175e3a2e568be",
   "outputs": [],
   "execution_count": null
  },
  {
   "metadata": {},
   "cell_type": "code",
   "source": [
    "clinvar_data = pd.read_csv('C:\\\\Users\\\\Kajus\\\\Desktop\\\\clinvar_result.txt', sep='\\t')\n",
    "\n",
    "display(clinvar_data)"
   ],
   "id": "c85507a3e2c584da",
   "outputs": [],
   "execution_count": null
  },
  {
   "metadata": {
    "ExecuteTime": {
     "end_time": "2024-08-21T19:54:33.516081Z",
     "start_time": "2024-08-21T19:52:03.354634Z"
    }
   },
   "cell_type": "code",
   "source": [
    "gnomad_from_api = request_gnomad_api_data(False)\n",
    "\n",
    "display(gnomad_from_api)"
   ],
   "id": "64482c033c794fb4",
   "outputs": [
    {
     "data": {
      "text/plain": [
       "           variant_id cDNA change  ...    Popmax         Popmax population\n",
       "0      6-63720525-A-G    c.*71T>C  ...  0.000016  African/African American\n",
       "1      6-63720525-A-T    c.*71T>A  ...  0.000192                East Asian\n",
       "2      6-63720525-A-C    c.*71T>G  ...  0.000000                          \n",
       "3      6-63720526-T-A    c.*70A>T  ...  0.000020               South Asian\n",
       "4      6-63720527-G-T    c.*69C>A  ...  0.000000                          \n",
       "...               ...         ...  ...       ...                       ...\n",
       "14295  6-65495479-G-T    c.-69C>A  ...  0.000000                          \n",
       "14296  6-65495479-G-A    c.-69C>T  ...  0.000031  African/African American\n",
       "14297  6-65495482-A-G    c.-72T>C  ...  0.000070          Admixed American\n",
       "14298  6-65495484-T-G    c.-74A>C  ...  0.000060               South Asian\n",
       "14299  6-65495485-T-C    c.-75A>G  ...  0.000012               South Asian\n",
       "\n",
       "[14300 rows x 7 columns]"
      ],
      "text/html": [
       "<div>\n",
       "<style scoped>\n",
       "    .dataframe tbody tr th:only-of-type {\n",
       "        vertical-align: middle;\n",
       "    }\n",
       "\n",
       "    .dataframe tbody tr th {\n",
       "        vertical-align: top;\n",
       "    }\n",
       "\n",
       "    .dataframe thead th {\n",
       "        text-align: right;\n",
       "    }\n",
       "</style>\n",
       "<table border=\"1\" class=\"dataframe\">\n",
       "  <thead>\n",
       "    <tr style=\"text-align: right;\">\n",
       "      <th></th>\n",
       "      <th>variant_id</th>\n",
       "      <th>cDNA change</th>\n",
       "      <th>Protein change</th>\n",
       "      <th>Allele Frequency</th>\n",
       "      <th>Homozygote Count</th>\n",
       "      <th>Popmax</th>\n",
       "      <th>Popmax population</th>\n",
       "    </tr>\n",
       "  </thead>\n",
       "  <tbody>\n",
       "    <tr>\n",
       "      <th>0</th>\n",
       "      <td>6-63720525-A-G</td>\n",
       "      <td>c.*71T&gt;C</td>\n",
       "      <td>0</td>\n",
       "      <td>1.807419e-06</td>\n",
       "      <td>0.0</td>\n",
       "      <td>0.000016</td>\n",
       "      <td>African/African American</td>\n",
       "    </tr>\n",
       "    <tr>\n",
       "      <th>1</th>\n",
       "      <td>6-63720525-A-T</td>\n",
       "      <td>c.*71T&gt;A</td>\n",
       "      <td>0</td>\n",
       "      <td>6.573844e-06</td>\n",
       "      <td>0.0</td>\n",
       "      <td>0.000192</td>\n",
       "      <td>East Asian</td>\n",
       "    </tr>\n",
       "    <tr>\n",
       "      <th>2</th>\n",
       "      <td>6-63720525-A-C</td>\n",
       "      <td>c.*71T&gt;G</td>\n",
       "      <td>0</td>\n",
       "      <td>0.000000e+00</td>\n",
       "      <td>0.0</td>\n",
       "      <td>0.000000</td>\n",
       "      <td></td>\n",
       "    </tr>\n",
       "    <tr>\n",
       "      <th>3</th>\n",
       "      <td>6-63720526-T-A</td>\n",
       "      <td>c.*70A&gt;T</td>\n",
       "      <td>0</td>\n",
       "      <td>1.045299e-06</td>\n",
       "      <td>0.0</td>\n",
       "      <td>0.000020</td>\n",
       "      <td>South Asian</td>\n",
       "    </tr>\n",
       "    <tr>\n",
       "      <th>4</th>\n",
       "      <td>6-63720527-G-T</td>\n",
       "      <td>c.*69C&gt;A</td>\n",
       "      <td>0</td>\n",
       "      <td>0.000000e+00</td>\n",
       "      <td>0.0</td>\n",
       "      <td>0.000000</td>\n",
       "      <td></td>\n",
       "    </tr>\n",
       "    <tr>\n",
       "      <th>...</th>\n",
       "      <td>...</td>\n",
       "      <td>...</td>\n",
       "      <td>...</td>\n",
       "      <td>...</td>\n",
       "      <td>...</td>\n",
       "      <td>...</td>\n",
       "      <td>...</td>\n",
       "    </tr>\n",
       "    <tr>\n",
       "      <th>14295</th>\n",
       "      <td>6-65495479-G-T</td>\n",
       "      <td>c.-69C&gt;A</td>\n",
       "      <td>0</td>\n",
       "      <td>0.000000e+00</td>\n",
       "      <td>0.0</td>\n",
       "      <td>0.000000</td>\n",
       "      <td></td>\n",
       "    </tr>\n",
       "    <tr>\n",
       "      <th>14296</th>\n",
       "      <td>6-65495479-G-A</td>\n",
       "      <td>c.-69C&gt;T</td>\n",
       "      <td>0</td>\n",
       "      <td>1.446349e-06</td>\n",
       "      <td>0.0</td>\n",
       "      <td>0.000031</td>\n",
       "      <td>African/African American</td>\n",
       "    </tr>\n",
       "    <tr>\n",
       "      <th>14297</th>\n",
       "      <td>6-65495482-A-G</td>\n",
       "      <td>c.-72T&gt;C</td>\n",
       "      <td>0</td>\n",
       "      <td>2.629510e-06</td>\n",
       "      <td>0.0</td>\n",
       "      <td>0.000070</td>\n",
       "      <td>Admixed American</td>\n",
       "    </tr>\n",
       "    <tr>\n",
       "      <th>14298</th>\n",
       "      <td>6-65495484-T-G</td>\n",
       "      <td>c.-74A&gt;C</td>\n",
       "      <td>0</td>\n",
       "      <td>3.645085e-06</td>\n",
       "      <td>0.0</td>\n",
       "      <td>0.000060</td>\n",
       "      <td>South Asian</td>\n",
       "    </tr>\n",
       "    <tr>\n",
       "      <th>14299</th>\n",
       "      <td>6-65495485-T-C</td>\n",
       "      <td>c.-75A&gt;G</td>\n",
       "      <td>0</td>\n",
       "      <td>7.310070e-07</td>\n",
       "      <td>0.0</td>\n",
       "      <td>0.000012</td>\n",
       "      <td>South Asian</td>\n",
       "    </tr>\n",
       "  </tbody>\n",
       "</table>\n",
       "<p>14300 rows × 7 columns</p>\n",
       "</div>"
      ]
     },
     "metadata": {},
     "output_type": "display_data"
    }
   ],
   "execution_count": 2
  },
  {
   "metadata": {},
   "cell_type": "code",
   "outputs": [],
   "execution_count": null,
   "source": "",
   "id": "6f0abfb50bd211a0"
  }
 ],
 "metadata": {
  "kernelspec": {
   "display_name": "Python 3 (ipykernel)",
   "language": "python",
   "name": "python3"
  },
  "language_info": {
   "codemirror_mode": {
    "name": "ipython",
    "version": 3
   },
   "file_extension": ".py",
   "mimetype": "text/x-python",
   "name": "python",
   "nbconvert_exporter": "python",
   "pygments_lexer": "ipython3",
   "version": "3.11.6"
  }
 },
 "nbformat": 4,
 "nbformat_minor": 5
}
