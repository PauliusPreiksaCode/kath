{
 "cells": [
  {
   "cell_type": "code",
   "id": "initial_id",
   "metadata": {
    "collapsed": true,
    "jupyter": {
     "outputs_hidden": true
    },
    "ExecuteTime": {
     "end_time": "2024-09-02T18:45:02.492330Z",
     "start_time": "2024-09-02T18:45:02.488185Z"
    }
   },
   "source": [
    "import pandas as pd\n",
    "import requests\n",
    "\n",
    "from api.data import (store_database_for_eys_gene,\n",
    "                      parse_lovd,\n",
    "                      parse_gnomad,\n",
    "                      LOVD_PATH,\n",
    "                      set_lovd_dtypes,\n",
    "                      set_gnomad_dtypes,\n",
    "                      request_gnomad_api_data,\n",
    "                      merge_gnomad_lovd,\n",
    "                      GNOMAD_PATH,\n",
    "                      )\n",
    "from api.data import save_lovd_as_vcf\n",
    "\n",
    "\n",
    "pd.options.display.max_columns = 0"
   ],
   "outputs": [],
   "execution_count": 11
  },
  {
   "cell_type": "code",
   "id": "f49f7691a27aa7b4",
   "metadata": {
    "collapsed": false
   },
   "source": [
    "store_database_for_eys_gene(\"lovd\", override=False)"
   ],
   "outputs": [],
   "execution_count": null
  },
  {
   "cell_type": "code",
   "id": "cf5c45c0f7b9de0f",
   "metadata": {
    "collapsed": false,
    "jupyter": {
     "outputs_hidden": false
    }
   },
   "source": [
    "data = parse_lovd(LOVD_PATH + \"/lovd_data.txt\")"
   ],
   "outputs": [],
   "execution_count": null
  },
  {
   "metadata": {
    "ExecuteTime": {
     "start_time": "2024-09-02T18:42:20.091398Z"
    }
   },
   "cell_type": "code",
   "source": [
    "gnomad_data = request_gnomad_api_data(\"EYS\")\n",
    "\n",
    "display(gnomad_data)"
   ],
   "id": "64482c033c794fb4",
   "outputs": [],
   "execution_count": null
  },
  {
   "metadata": {
    "ExecuteTime": {
     "start_time": "2024-09-02T18:44:44.422287Z"
    }
   },
   "cell_type": "code",
   "source": [
    "store_database_for_eys_gene('gnomad', False)\n",
    "\n",
    "gnomad_data_2 = parse_gnomad(GNOMAD_PATH +'/gnomad_data.csv')"
   ],
   "id": "60f3f3074a9b19f4",
   "outputs": [],
   "execution_count": null
  },
  {
   "metadata": {
    "ExecuteTime": {
     "start_time": "2024-09-02T18:44:44.497881Z"
    }
   },
   "cell_type": "code",
   "source": "display(gnomad_data_2)",
   "id": "9d3e4d6b5f7be127",
   "outputs": [],
   "execution_count": null
  },
  {
   "metadata": {
    "ExecuteTime": {
     "start_time": "2024-09-02T18:44:44.546361Z"
    }
   },
   "cell_type": "code",
   "source": [
    "gnomad_data_2.to_csv('C:\\\\Users\\\\Kajus\\\\Desktop\\\\gnomad_data_downloaded.csv', index=False)\n",
    "gnomad_data.to_csv('C:\\\\Users\\\\Kajus\\\\Desktop\\\\gnomad_data_api.csv', index=False)"
   ],
   "id": "2e869f5c77dbe3d3",
   "outputs": [],
   "execution_count": null
  },
  {
   "metadata": {
    "ExecuteTime": {
     "start_time": "2024-09-02T18:44:44.806484Z"
    }
   },
   "cell_type": "code",
   "source": [
    "len(gnomad_data_2), len(gnomad_data)\n",
    "\n",
    "print(len(gnomad_data_2) - len(gnomad_data))"
   ],
   "id": "9efafb201061c146",
   "outputs": [],
   "execution_count": null
  },
  {
   "metadata": {
    "ExecuteTime": {
     "end_time": "2024-09-02T18:45:06.035450Z",
     "start_time": "2024-09-02T18:45:06.022832Z"
    }
   },
   "cell_type": "code",
   "source": "gnomad_data",
   "id": "96283480cccf641",
   "outputs": [
    {
     "data": {
      "text/plain": [
       "         Popmax         Popmax population  ...  Allele Frequency      variant_id\n",
       "0      0.000016  African/African American  ...      1.807419e-06  6-63720525-A-G\n",
       "1      0.000192                East Asian  ...      6.573844e-06  6-63720525-A-T\n",
       "2      0.000000                            ...      0.000000e+00  6-63720525-A-C\n",
       "3      0.000020               South Asian  ...      1.045299e-06  6-63720526-T-A\n",
       "4      0.000000                            ...      0.000000e+00  6-63720527-G-T\n",
       "...         ...                       ...  ...               ...             ...\n",
       "14295  0.000000                            ...      0.000000e+00  6-65495479-G-T\n",
       "14296  0.000031  African/African American  ...      1.446349e-06  6-65495479-G-A\n",
       "14297  0.000070          Admixed American  ...      2.629510e-06  6-65495482-A-G\n",
       "14298  0.000060               South Asian  ...      3.645085e-06  6-65495484-T-G\n",
       "14299  0.000012               South Asian  ...      7.310070e-07  6-65495485-T-C\n",
       "\n",
       "[14300 rows x 5 columns]"
      ],
      "text/html": [
       "<div>\n",
       "<style scoped>\n",
       "    .dataframe tbody tr th:only-of-type {\n",
       "        vertical-align: middle;\n",
       "    }\n",
       "\n",
       "    .dataframe tbody tr th {\n",
       "        vertical-align: top;\n",
       "    }\n",
       "\n",
       "    .dataframe thead th {\n",
       "        text-align: right;\n",
       "    }\n",
       "</style>\n",
       "<table border=\"1\" class=\"dataframe\">\n",
       "  <thead>\n",
       "    <tr style=\"text-align: right;\">\n",
       "      <th></th>\n",
       "      <th>Popmax</th>\n",
       "      <th>Popmax population</th>\n",
       "      <th>Homozygote Count</th>\n",
       "      <th>Allele Frequency</th>\n",
       "      <th>variant_id</th>\n",
       "    </tr>\n",
       "  </thead>\n",
       "  <tbody>\n",
       "    <tr>\n",
       "      <th>0</th>\n",
       "      <td>0.000016</td>\n",
       "      <td>African/African American</td>\n",
       "      <td>0.0</td>\n",
       "      <td>1.807419e-06</td>\n",
       "      <td>6-63720525-A-G</td>\n",
       "    </tr>\n",
       "    <tr>\n",
       "      <th>1</th>\n",
       "      <td>0.000192</td>\n",
       "      <td>East Asian</td>\n",
       "      <td>0.0</td>\n",
       "      <td>6.573844e-06</td>\n",
       "      <td>6-63720525-A-T</td>\n",
       "    </tr>\n",
       "    <tr>\n",
       "      <th>2</th>\n",
       "      <td>0.000000</td>\n",
       "      <td></td>\n",
       "      <td>0.0</td>\n",
       "      <td>0.000000e+00</td>\n",
       "      <td>6-63720525-A-C</td>\n",
       "    </tr>\n",
       "    <tr>\n",
       "      <th>3</th>\n",
       "      <td>0.000020</td>\n",
       "      <td>South Asian</td>\n",
       "      <td>0.0</td>\n",
       "      <td>1.045299e-06</td>\n",
       "      <td>6-63720526-T-A</td>\n",
       "    </tr>\n",
       "    <tr>\n",
       "      <th>4</th>\n",
       "      <td>0.000000</td>\n",
       "      <td></td>\n",
       "      <td>0.0</td>\n",
       "      <td>0.000000e+00</td>\n",
       "      <td>6-63720527-G-T</td>\n",
       "    </tr>\n",
       "    <tr>\n",
       "      <th>...</th>\n",
       "      <td>...</td>\n",
       "      <td>...</td>\n",
       "      <td>...</td>\n",
       "      <td>...</td>\n",
       "      <td>...</td>\n",
       "    </tr>\n",
       "    <tr>\n",
       "      <th>14295</th>\n",
       "      <td>0.000000</td>\n",
       "      <td></td>\n",
       "      <td>0.0</td>\n",
       "      <td>0.000000e+00</td>\n",
       "      <td>6-65495479-G-T</td>\n",
       "    </tr>\n",
       "    <tr>\n",
       "      <th>14296</th>\n",
       "      <td>0.000031</td>\n",
       "      <td>African/African American</td>\n",
       "      <td>0.0</td>\n",
       "      <td>1.446349e-06</td>\n",
       "      <td>6-65495479-G-A</td>\n",
       "    </tr>\n",
       "    <tr>\n",
       "      <th>14297</th>\n",
       "      <td>0.000070</td>\n",
       "      <td>Admixed American</td>\n",
       "      <td>0.0</td>\n",
       "      <td>2.629510e-06</td>\n",
       "      <td>6-65495482-A-G</td>\n",
       "    </tr>\n",
       "    <tr>\n",
       "      <th>14298</th>\n",
       "      <td>0.000060</td>\n",
       "      <td>South Asian</td>\n",
       "      <td>0.0</td>\n",
       "      <td>3.645085e-06</td>\n",
       "      <td>6-65495484-T-G</td>\n",
       "    </tr>\n",
       "    <tr>\n",
       "      <th>14299</th>\n",
       "      <td>0.000012</td>\n",
       "      <td>South Asian</td>\n",
       "      <td>0.0</td>\n",
       "      <td>7.310070e-07</td>\n",
       "      <td>6-65495485-T-C</td>\n",
       "    </tr>\n",
       "  </tbody>\n",
       "</table>\n",
       "<p>14300 rows × 5 columns</p>\n",
       "</div>"
      ]
     },
     "execution_count": 12,
     "metadata": {},
     "output_type": "execute_result"
    }
   ],
   "execution_count": 12
  },
  {
   "metadata": {
    "ExecuteTime": {
     "start_time": "2024-09-02T18:44:44.827926Z"
    }
   },
   "cell_type": "code",
   "source": [
    "missing_from_api = []\n",
    "\n",
    "for i in gnomad_data['gnomAD ID']:\n",
    "    if(i in gnomad_data_2['gnomAD ID'].values):\n",
    "        continue\n",
    "    missing_from_api.append(i)\n",
    "\n",
    "len(missing_from_api)\n",
    "\n",
    "missing_data = gnomad_data.loc[gnomad_data['gnomAD ID'].isin(missing_from_api)]\n",
    "\n",
    "missing_data"
   ],
   "id": "d0eb0a6db96d31c8",
   "outputs": [],
   "execution_count": null
  },
  {
   "metadata": {
    "ExecuteTime": {
     "start_time": "2024-09-02T18:44:45.626358Z"
    }
   },
   "cell_type": "code",
   "source": "missing_data.to_csv('C:\\\\Users\\\\Kajus\\\\Desktop\\\\gnomad_data_missing.csv', index=False)",
   "id": "388120b03b094511",
   "outputs": [],
   "execution_count": null
  },
  {
   "metadata": {
    "ExecuteTime": {
     "start_time": "2024-09-02T18:44:45.626358Z"
    }
   },
   "cell_type": "code",
   "source": [
    "set_lovd_dtypes(data)\n",
    "set_gnomad_dtypes(gnomad_data)\n",
    "\n",
    "variants_on_genome = data[\"Variants_On_Genome\"].copy()\n",
    "\n",
    "lovd_data = pd.merge(data[\"Variants_On_Transcripts\"],\n",
    "                       variants_on_genome[['id','VariantOnGenome/DNA/hg38']],\n",
    "                       on='id',\n",
    "                       how='left')\n",
    "\n",
    "gnomad_data = gnomad_data.copy()\n",
    "final_data = merge_gnomad_lovd(lovd_data, gnomad_data)\n",
    "final_data"
   ],
   "id": "96453d88e353aeb1",
   "outputs": [],
   "execution_count": null
  },
  {
   "metadata": {
    "ExecuteTime": {
     "start_time": "2024-09-02T18:44:45.627863Z"
    }
   },
   "cell_type": "code",
   "source": [
    "for i in data:\n",
    "    print(i)\n",
    "    display(data[i])"
   ],
   "id": "8a089e29bfc8c119",
   "outputs": [],
   "execution_count": null
  },
  {
   "metadata": {
    "ExecuteTime": {
     "start_time": "2024-09-02T18:44:45.628871Z"
    }
   },
   "cell_type": "code",
   "source": [
    "set_lovd_dtypes(data)\n",
    "for i in data:\n",
    "    print(i)\n",
    "    display(data[i].info())"
   ],
   "id": "ef07740b2fa63e42",
   "outputs": [],
   "execution_count": null
  },
  {
   "metadata": {
    "ExecuteTime": {
     "end_time": "2024-09-02T18:44:45.646110Z",
     "start_time": "2024-09-02T18:44:45.629871Z"
    }
   },
   "cell_type": "code",
   "source": "save_lovd_as_vcf(data[\"Variants_On_Genome\"], \"./lovd.vcf\")",
   "id": "c968af1617be40db",
   "outputs": [],
   "execution_count": null
  },
  {
   "metadata": {
    "ExecuteTime": {
     "start_time": "2024-09-02T18:44:45.630870Z"
    }
   },
   "cell_type": "code",
   "source": [
    "from subprocess import Popen\n",
    "\n",
    "process = Popen(\"spliceai -I ./lovd.vcf -O ./lovd_output.vcf -R ../tools/spliceai/hg38.fa -A grch38\".split())\n",
    "process.wait()"
   ],
   "id": "c7ff16903e0c52bd",
   "outputs": [],
   "execution_count": null
  },
  {
   "metadata": {
    "ExecuteTime": {
     "start_time": "2024-09-02T18:44:45.631870Z"
    }
   },
   "cell_type": "code",
   "source": [
    "from api.tools import get_revel_scores\n",
    "\n",
    "chromosome = 6\n",
    "position = 65655758\n",
    "\n",
    "results = get_revel_scores(chromosome, position)\n",
    "\n",
    "display(results)"
   ],
   "id": "0514ccc3-5c91-41ad-ab15-f4158030ea14",
   "outputs": [],
   "execution_count": null
  },
  {
   "metadata": {
    "ExecuteTime": {
     "start_time": "2024-09-02T18:44:45.631870Z"
    }
   },
   "cell_type": "code",
   "source": "",
   "id": "6f0abfb50bd211a0",
   "outputs": [],
   "execution_count": null
  }
 ],
 "metadata": {
  "kernelspec": {
   "display_name": "Python 3 (ipykernel)",
   "language": "python",
   "name": "python3"
  },
  "language_info": {
   "codemirror_mode": {
    "name": "ipython",
    "version": 3
   },
   "file_extension": ".py",
   "mimetype": "text/x-python",
   "name": "python",
   "nbconvert_exporter": "python",
   "pygments_lexer": "ipython3",
   "version": "3.11.6"
  }
 },
 "nbformat": 4,
 "nbformat_minor": 5
}
